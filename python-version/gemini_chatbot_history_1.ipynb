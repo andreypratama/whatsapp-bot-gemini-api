{
 "cells": [
  {
   "cell_type": "code",
   "execution_count": null,
   "metadata": {
    "colab": {
     "base_uri": "https://localhost:8080/"
    },
    "id": "7s3BgpRcQUQU",
    "outputId": "e5a5beda-8ff5-4004-aeac-d9098345f23c"
   },
   "outputs": [
    {
     "name": "stdout",
     "output_type": "stream",
     "text": [
      "Requirement already satisfied: google-generativeai in /usr/local/lib/python3.10/dist-packages (0.8.3)\n",
      "Requirement already satisfied: google-ai-generativelanguage==0.6.10 in /usr/local/lib/python3.10/dist-packages (from google-generativeai) (0.6.10)\n",
      "Requirement already satisfied: google-api-core in /usr/local/lib/python3.10/dist-packages (from google-generativeai) (2.19.2)\n",
      "Requirement already satisfied: google-api-python-client in /usr/local/lib/python3.10/dist-packages (from google-generativeai) (2.151.0)\n",
      "Requirement already satisfied: google-auth>=2.15.0 in /usr/local/lib/python3.10/dist-packages (from google-generativeai) (2.27.0)\n",
      "Requirement already satisfied: protobuf in /usr/local/lib/python3.10/dist-packages (from google-generativeai) (4.25.5)\n",
      "Requirement already satisfied: pydantic in /usr/local/lib/python3.10/dist-packages (from google-generativeai) (2.9.2)\n",
      "Requirement already satisfied: tqdm in /usr/local/lib/python3.10/dist-packages (from google-generativeai) (4.66.6)\n",
      "Requirement already satisfied: typing-extensions in /usr/local/lib/python3.10/dist-packages (from google-generativeai) (4.12.2)\n",
      "Requirement already satisfied: proto-plus<2.0.0dev,>=1.22.3 in /usr/local/lib/python3.10/dist-packages (from google-ai-generativelanguage==0.6.10->google-generativeai) (1.25.0)\n",
      "Requirement already satisfied: googleapis-common-protos<2.0.dev0,>=1.56.2 in /usr/local/lib/python3.10/dist-packages (from google-api-core->google-generativeai) (1.66.0)\n",
      "Requirement already satisfied: requests<3.0.0.dev0,>=2.18.0 in /usr/local/lib/python3.10/dist-packages (from google-api-core->google-generativeai) (2.32.3)\n",
      "Requirement already satisfied: cachetools<6.0,>=2.0.0 in /usr/local/lib/python3.10/dist-packages (from google-auth>=2.15.0->google-generativeai) (5.5.0)\n",
      "Requirement already satisfied: pyasn1-modules>=0.2.1 in /usr/local/lib/python3.10/dist-packages (from google-auth>=2.15.0->google-generativeai) (0.4.1)\n",
      "Requirement already satisfied: rsa<5,>=3.1.4 in /usr/local/lib/python3.10/dist-packages (from google-auth>=2.15.0->google-generativeai) (4.9)\n",
      "Requirement already satisfied: httplib2<1.dev0,>=0.19.0 in /usr/local/lib/python3.10/dist-packages (from google-api-python-client->google-generativeai) (0.22.0)\n",
      "Requirement already satisfied: google-auth-httplib2<1.0.0,>=0.2.0 in /usr/local/lib/python3.10/dist-packages (from google-api-python-client->google-generativeai) (0.2.0)\n",
      "Requirement already satisfied: uritemplate<5,>=3.0.1 in /usr/local/lib/python3.10/dist-packages (from google-api-python-client->google-generativeai) (4.1.1)\n",
      "Requirement already satisfied: annotated-types>=0.6.0 in /usr/local/lib/python3.10/dist-packages (from pydantic->google-generativeai) (0.7.0)\n",
      "Requirement already satisfied: pydantic-core==2.23.4 in /usr/local/lib/python3.10/dist-packages (from pydantic->google-generativeai) (2.23.4)\n",
      "Requirement already satisfied: grpcio<2.0dev,>=1.33.2 in /usr/local/lib/python3.10/dist-packages (from google-api-core[grpc]!=2.0.*,!=2.1.*,!=2.10.*,!=2.2.*,!=2.3.*,!=2.4.*,!=2.5.*,!=2.6.*,!=2.7.*,!=2.8.*,!=2.9.*,<3.0.0dev,>=1.34.1->google-ai-generativelanguage==0.6.10->google-generativeai) (1.68.0)\n",
      "Requirement already satisfied: grpcio-status<2.0.dev0,>=1.33.2 in /usr/local/lib/python3.10/dist-packages (from google-api-core[grpc]!=2.0.*,!=2.1.*,!=2.10.*,!=2.2.*,!=2.3.*,!=2.4.*,!=2.5.*,!=2.6.*,!=2.7.*,!=2.8.*,!=2.9.*,<3.0.0dev,>=1.34.1->google-ai-generativelanguage==0.6.10->google-generativeai) (1.62.3)\n",
      "Requirement already satisfied: pyparsing!=3.0.0,!=3.0.1,!=3.0.2,!=3.0.3,<4,>=2.4.2 in /usr/local/lib/python3.10/dist-packages (from httplib2<1.dev0,>=0.19.0->google-api-python-client->google-generativeai) (3.2.0)\n",
      "Requirement already satisfied: pyasn1<0.7.0,>=0.4.6 in /usr/local/lib/python3.10/dist-packages (from pyasn1-modules>=0.2.1->google-auth>=2.15.0->google-generativeai) (0.6.1)\n",
      "Requirement already satisfied: charset-normalizer<4,>=2 in /usr/local/lib/python3.10/dist-packages (from requests<3.0.0.dev0,>=2.18.0->google-api-core->google-generativeai) (3.4.0)\n",
      "Requirement already satisfied: idna<4,>=2.5 in /usr/local/lib/python3.10/dist-packages (from requests<3.0.0.dev0,>=2.18.0->google-api-core->google-generativeai) (3.10)\n",
      "Requirement already satisfied: urllib3<3,>=1.21.1 in /usr/local/lib/python3.10/dist-packages (from requests<3.0.0.dev0,>=2.18.0->google-api-core->google-generativeai) (2.2.3)\n",
      "Requirement already satisfied: certifi>=2017.4.17 in /usr/local/lib/python3.10/dist-packages (from requests<3.0.0.dev0,>=2.18.0->google-api-core->google-generativeai) (2024.8.30)\n"
     ]
    }
   ],
   "source": [
    "!pip install google-generativeai"
   ]
  },
  {
   "cell_type": "code",
   "execution_count": null,
   "metadata": {
    "id": "uQv4E7rlQ96r"
   },
   "outputs": [],
   "source": [
    "API_KEY = \"\""
   ]
  },
  {
   "cell_type": "markdown",
   "metadata": {
    "id": "wD1AgEwoQath"
   },
   "source": [
    "**Gemini Chat Basic**"
   ]
  },
  {
   "cell_type": "code",
   "execution_count": null,
   "metadata": {
    "colab": {
     "base_uri": "https://localhost:8080/",
     "height": 382
    },
    "id": "7SKuEAkHQUQV",
    "outputId": "c6aa9028-3793-4fec-b139-e8c13b2c1da9"
   },
   "outputs": [
    {
     "name": "stdout",
     "output_type": "stream",
     "text": [
      "**Ode to President U, Machine Learning's Grace**\n",
      "\n",
      "In hallowed halls, where algorithms reside,\n",
      "And knowledge flows like circuits intertwined,\n",
      "Where students delve into AI's wide stride,\n",
      "President U, their aspirations entwined.\n",
      "\n",
      "Machine learning's mysteries they explore,\n",
      "Unveiling secrets of a world unseen,\n",
      "From data's depths, they mine a golden store,\n",
      "Transcending boundaries, where thoughts convene.\n",
      "\n",
      "Yet midst these technical pursuits so grand,\n",
      "A vibrant tapestry weaves on campus green,\n",
      "Where friendships bloom, and dreams take a stand,\n",
      "Beyond the classroom, where spirits reign.\n",
      "\n",
      "With clubs and sports, a vibrant student life,\n",
      "They soar beyond algorithm's digital knife.\n",
      "So raise a toast to President U's might,\n",
      "Where learning thrives in harmony with light.\n"
     ]
    }
   ],
   "source": [
    "import google.generativeai as genai\n",
    "\n",
    "genai.configure(api_key=API_KEY)\n",
    "model = genai.GenerativeModel(\"gemini-pro\")\n",
    "response = model.generate_content(\"Write a sonnet about a President University student life that take Machine Learning class, but also make it rhyme.\")\n",
    "print(response.text)"
   ]
  },
  {
   "cell_type": "markdown",
   "metadata": {
    "id": "LX-yU2ZGQyR3"
   },
   "source": [
    "**Gemini Chat w/ History**"
   ]
  },
  {
   "cell_type": "code",
   "execution_count": null,
   "metadata": {
    "colab": {
     "base_uri": "https://localhost:8080/",
     "height": 416
    },
    "id": "p96NIK1eQgvO",
    "outputId": "57fb768c-d599-4cd6-c4e4-7a5caff63add"
   },
   "outputs": [
    {
     "name": "stdout",
     "output_type": "stream",
     "text": [
      "You: hi\n",
      "AI: Hello there! How can I help you today?\n",
      "You: i want you to explain about google in one sentece\n",
      "AI: Google is a multinational technology company that specializes in Internet-related services and products.\n",
      "You: explain about earth in one sentece\n",
      "AI: Earth is the third planet from the Sun and the only known planet in the universe confirmed to support life.\n",
      "You: can you repeat what i ask you before?\n",
      "AI: You previously asked me to explain about Earth in one sentence. I responded with:\n",
      "\n",
      "> Earth is the third planet from the Sun and the only known planet in the universe confirmed to support life.\n",
      "\n",
      "Is there anything else I can help you with today?\n",
      "You: can you mention all question i asked to you?\n",
      "AI: Here is a list of all the questions you have asked me so far:\n",
      "\n",
      "1. I want you to explain about google in one sentence\n",
      "2. explain about earth in one sentece\n",
      "3. can you repeat what i ask you before?\n",
      "4. can you mention all question i asked to you?\n",
      "\n",
      "Is there anything else I can help you with today?\n",
      "You: exit\n",
      "Exiting the chat. Goodbye!\n"
     ]
    }
   ],
   "source": [
    "import google.generativeai as genai\n",
    "\n",
    "genai.configure(api_key=API_KEY)\n",
    "model = genai.GenerativeModel(\"gemini-pro\")\n",
    "\n",
    "chatModel = model.start_chat() # Initialize with empty history\n",
    "\n",
    "while True:\n",
    "    user_input = input(\"You: \")\n",
    "    if user_input.lower() == \"exit\":\n",
    "        print(\"Exiting the chat. Goodbye!\")\n",
    "        break\n",
    "    else:\n",
    "        # history is now incorporated into the chatModel object\n",
    "        result = chatModel.send_message(user_input, generation_config={\"max_output_tokens\": 200})\n",
    "        print(f\"AI: {result.text}\")\n",
    "\n",
    "        # No need to manually update history anymore"
   ]
  },
  {
   "cell_type": "markdown",
   "metadata": {
    "id": "C1rDfTcKXP_j"
   },
   "source": [
    "**Gemini Pro-Vision**"
   ]
  },
  {
   "cell_type": "code",
   "execution_count": null,
   "metadata": {
    "id": "uQXX6B6uXVQN"
   },
   "outputs": [],
   "source": [
    "import google.generativeai as genai\n",
    "import base64\n",
    "\n",
    "genai.configure(api_key=API_KEY)\n",
    "model = genai.GenerativeModel(\"gemini-pro\")\n",
    "\n",
    "\n",
    "\n",
    "def file_to_generative_part(path, mime_type):\n",
    "    with open(path, \"rb\") as file:\n",
    "        data = file.read()\n",
    "\n",
    "    encoded_data = base64.b64encode(data).decode(\"utf-8\")\n",
    "\n",
    "    return {\n",
    "        \"inlineData\": {\n",
    "            \"data\": encoded_data,\n",
    "            \"mimeType\": mime_type,\n",
    "        },\n",
    "    }\n",
    "\n"
   ]
  },
  {
   "cell_type": "code",
   "execution_count": null,
   "metadata": {
    "colab": {
     "base_uri": "https://localhost:8080/"
    },
    "id": "-Uir0gagZt85",
    "outputId": "7f54b4a9-049e-4a5e-e45c-8caa1fc0e3ea"
   },
   "outputs": [
    {
     "name": "stdout",
     "output_type": "stream",
     "text": [
      "Requirement already satisfied: selenium in /usr/local/lib/python3.10/dist-packages (4.26.1)\n",
      "Requirement already satisfied: urllib3<3,>=1.26 in /usr/local/lib/python3.10/dist-packages (from urllib3[socks]<3,>=1.26->selenium) (2.2.3)\n",
      "Requirement already satisfied: trio~=0.17 in /usr/local/lib/python3.10/dist-packages (from selenium) (0.27.0)\n",
      "Requirement already satisfied: trio-websocket~=0.9 in /usr/local/lib/python3.10/dist-packages (from selenium) (0.11.1)\n",
      "Requirement already satisfied: certifi>=2021.10.8 in /usr/local/lib/python3.10/dist-packages (from selenium) (2024.8.30)\n",
      "Requirement already satisfied: typing_extensions~=4.9 in /usr/local/lib/python3.10/dist-packages (from selenium) (4.12.2)\n",
      "Requirement already satisfied: websocket-client~=1.8 in /usr/local/lib/python3.10/dist-packages (from selenium) (1.8.0)\n",
      "Requirement already satisfied: attrs>=23.2.0 in /usr/local/lib/python3.10/dist-packages (from trio~=0.17->selenium) (24.2.0)\n",
      "Requirement already satisfied: sortedcontainers in /usr/local/lib/python3.10/dist-packages (from trio~=0.17->selenium) (2.4.0)\n",
      "Requirement already satisfied: idna in /usr/local/lib/python3.10/dist-packages (from trio~=0.17->selenium) (3.10)\n",
      "Requirement already satisfied: outcome in /usr/local/lib/python3.10/dist-packages (from trio~=0.17->selenium) (1.3.0.post0)\n",
      "Requirement already satisfied: sniffio>=1.3.0 in /usr/local/lib/python3.10/dist-packages (from trio~=0.17->selenium) (1.3.1)\n",
      "Requirement already satisfied: exceptiongroup in /usr/local/lib/python3.10/dist-packages (from trio~=0.17->selenium) (1.2.2)\n",
      "Requirement already satisfied: wsproto>=0.14 in /usr/local/lib/python3.10/dist-packages (from trio-websocket~=0.9->selenium) (1.2.0)\n",
      "Requirement already satisfied: pysocks!=1.5.7,<2.0,>=1.5.6 in /usr/local/lib/python3.10/dist-packages (from urllib3[socks]<3,>=1.26->selenium) (1.7.1)\n",
      "Requirement already satisfied: h11<1,>=0.9.0 in /usr/local/lib/python3.10/dist-packages (from wsproto>=0.14->trio-websocket~=0.9->selenium) (0.14.0)\n",
      "Requirement already satisfied: webdriver-manager in /usr/local/lib/python3.10/dist-packages (4.0.2)\n",
      "Requirement already satisfied: requests in /usr/local/lib/python3.10/dist-packages (from webdriver-manager) (2.32.3)\n",
      "Requirement already satisfied: python-dotenv in /usr/local/lib/python3.10/dist-packages (from webdriver-manager) (1.0.1)\n",
      "Requirement already satisfied: packaging in /usr/local/lib/python3.10/dist-packages (from webdriver-manager) (24.2)\n",
      "Requirement already satisfied: charset-normalizer<4,>=2 in /usr/local/lib/python3.10/dist-packages (from requests->webdriver-manager) (3.4.0)\n",
      "Requirement already satisfied: idna<4,>=2.5 in /usr/local/lib/python3.10/dist-packages (from requests->webdriver-manager) (3.10)\n",
      "Requirement already satisfied: urllib3<3,>=1.21.1 in /usr/local/lib/python3.10/dist-packages (from requests->webdriver-manager) (2.2.3)\n",
      "Requirement already satisfied: certifi>=2017.4.17 in /usr/local/lib/python3.10/dist-packages (from requests->webdriver-manager) (2024.8.30)\n",
      "Get:1 https://cloud.r-project.org/bin/linux/ubuntu jammy-cran40/ InRelease [3,626 B]\n",
      "Get:2 https://developer.download.nvidia.com/compute/cuda/repos/ubuntu2204/x86_64  InRelease [1,581 B]\n",
      "Get:3 http://security.ubuntu.com/ubuntu jammy-security InRelease [129 kB]\n",
      "Hit:4 http://archive.ubuntu.com/ubuntu jammy InRelease\n",
      "Get:5 https://r2u.stat.illinois.edu/ubuntu jammy InRelease [6,555 B]\n",
      "Get:6 http://archive.ubuntu.com/ubuntu jammy-updates InRelease [128 kB]\n",
      "Get:7 https://developer.download.nvidia.com/compute/cuda/repos/ubuntu2204/x86_64  Packages [1,172 kB]\n",
      "Hit:8 https://ppa.launchpadcontent.net/deadsnakes/ppa/ubuntu jammy InRelease\n",
      "Hit:9 https://ppa.launchpadcontent.net/graphics-drivers/ppa/ubuntu jammy InRelease\n",
      "Hit:10 https://ppa.launchpadcontent.net/ubuntugis/ppa/ubuntu jammy InRelease\n",
      "Get:11 http://archive.ubuntu.com/ubuntu jammy-backports InRelease [127 kB]\n",
      "Get:12 https://r2u.stat.illinois.edu/ubuntu jammy/main all Packages [8,501 kB]\n",
      "Get:13 https://r2u.stat.illinois.edu/ubuntu jammy/main amd64 Packages [2,616 kB]\n",
      "Get:14 http://security.ubuntu.com/ubuntu jammy-security/restricted amd64 Packages [3,323 kB]\n",
      "Get:15 http://archive.ubuntu.com/ubuntu jammy-updates/main amd64 Packages [2,734 kB]\n",
      "Get:16 http://security.ubuntu.com/ubuntu jammy-security/main amd64 Packages [2,452 kB]\n",
      "Get:17 http://security.ubuntu.com/ubuntu jammy-security/universe amd64 Packages [1,223 kB]\n",
      "Get:18 http://archive.ubuntu.com/ubuntu jammy-updates/universe amd64 Packages [1,512 kB]\n",
      "Fetched 23.9 MB in 3s (8,926 kB/s)\n",
      "Reading package lists... Done\n",
      "W: Skipping acquire of configured file 'main/source/Sources' as repository 'https://r2u.stat.illinois.edu/ubuntu jammy InRelease' does not seem to provide it (sources.list entry misspelt?)\n",
      "Reading package lists... Done\n",
      "Building dependency tree... Done\n",
      "Reading state information... Done\n",
      "The following additional packages will be installed:\n",
      "  apparmor chromium-browser libfuse3-3 liblzo2-2 libudev1 snapd squashfs-tools systemd-hwe-hwdb\n",
      "  udev\n",
      "Suggested packages:\n",
      "  apparmor-profiles-extra apparmor-utils fuse3 zenity | kdialog\n",
      "The following NEW packages will be installed:\n",
      "  apparmor chromium-browser chromium-chromedriver libfuse3-3 liblzo2-2 snapd squashfs-tools\n",
      "  systemd-hwe-hwdb udev\n",
      "The following packages will be upgraded:\n",
      "  libudev1\n",
      "1 upgraded, 9 newly installed, 0 to remove and 48 not upgraded.\n",
      "Need to get 29.0 MB of archives.\n",
      "After this operation, 120 MB of additional disk space will be used.\n",
      "Get:1 http://archive.ubuntu.com/ubuntu jammy-updates/main amd64 apparmor amd64 3.0.4-2ubuntu2.4 [598 kB]\n",
      "Get:2 http://archive.ubuntu.com/ubuntu jammy/main amd64 liblzo2-2 amd64 2.10-2build3 [53.7 kB]\n",
      "Get:3 http://archive.ubuntu.com/ubuntu jammy/main amd64 squashfs-tools amd64 1:4.5-3build1 [159 kB]\n",
      "Get:4 http://archive.ubuntu.com/ubuntu jammy-updates/main amd64 libudev1 amd64 249.11-0ubuntu3.12 [78.2 kB]\n",
      "Get:5 http://archive.ubuntu.com/ubuntu jammy-updates/main amd64 udev amd64 249.11-0ubuntu3.12 [1,557 kB]\n",
      "Get:6 http://archive.ubuntu.com/ubuntu jammy/main amd64 libfuse3-3 amd64 3.10.5-1build1 [81.2 kB]\n",
      "Get:7 http://archive.ubuntu.com/ubuntu jammy-updates/main amd64 snapd amd64 2.65.3+22.04 [26.4 MB]\n",
      "Get:8 http://archive.ubuntu.com/ubuntu jammy-updates/universe amd64 chromium-browser amd64 1:85.0.4183.83-0ubuntu2.22.04.1 [49.2 kB]\n",
      "Get:9 http://archive.ubuntu.com/ubuntu jammy-updates/universe amd64 chromium-chromedriver amd64 1:85.0.4183.83-0ubuntu2.22.04.1 [2,308 B]\n",
      "Get:10 http://archive.ubuntu.com/ubuntu jammy-updates/main amd64 systemd-hwe-hwdb all 249.11.5 [3,228 B]\n",
      "Fetched 29.0 MB in 2s (17.8 MB/s)\n",
      "Preconfiguring packages ...\n",
      "Selecting previously unselected package apparmor.\n",
      "(Reading database ... 123630 files and directories currently installed.)\n",
      "Preparing to unpack .../apparmor_3.0.4-2ubuntu2.4_amd64.deb ...\n",
      "Unpacking apparmor (3.0.4-2ubuntu2.4) ...\n",
      "Selecting previously unselected package liblzo2-2:amd64.\n",
      "Preparing to unpack .../liblzo2-2_2.10-2build3_amd64.deb ...\n",
      "Unpacking liblzo2-2:amd64 (2.10-2build3) ...\n",
      "Selecting previously unselected package squashfs-tools.\n",
      "Preparing to unpack .../squashfs-tools_1%3a4.5-3build1_amd64.deb ...\n",
      "Unpacking squashfs-tools (1:4.5-3build1) ...\n",
      "Preparing to unpack .../libudev1_249.11-0ubuntu3.12_amd64.deb ...\n",
      "Unpacking libudev1:amd64 (249.11-0ubuntu3.12) over (249.11-0ubuntu3.10) ...\n",
      "Setting up libudev1:amd64 (249.11-0ubuntu3.12) ...\n",
      "Selecting previously unselected package udev.\n",
      "(Reading database ... 123838 files and directories currently installed.)\n",
      "Preparing to unpack .../udev_249.11-0ubuntu3.12_amd64.deb ...\n",
      "Unpacking udev (249.11-0ubuntu3.12) ...\n",
      "Selecting previously unselected package libfuse3-3:amd64.\n",
      "Preparing to unpack .../libfuse3-3_3.10.5-1build1_amd64.deb ...\n",
      "Unpacking libfuse3-3:amd64 (3.10.5-1build1) ...\n",
      "Selecting previously unselected package snapd.\n",
      "Preparing to unpack .../snapd_2.65.3+22.04_amd64.deb ...\n",
      "Unpacking snapd (2.65.3+22.04) ...\n",
      "Setting up apparmor (3.0.4-2ubuntu2.4) ...\n",
      "Created symlink /etc/systemd/system/sysinit.target.wants/apparmor.service → /lib/systemd/system/apparmor.service.\n",
      "Setting up liblzo2-2:amd64 (2.10-2build3) ...\n",
      "Setting up squashfs-tools (1:4.5-3build1) ...\n",
      "Setting up udev (249.11-0ubuntu3.12) ...\n",
      "invoke-rc.d: could not determine current runlevel\n",
      "invoke-rc.d: policy-rc.d denied execution of start.\n",
      "Setting up libfuse3-3:amd64 (3.10.5-1build1) ...\n",
      "Setting up snapd (2.65.3+22.04) ...\n",
      "Created symlink /etc/systemd/system/multi-user.target.wants/snapd.apparmor.service → /lib/systemd/system/snapd.apparmor.service.\n",
      "Created symlink /etc/systemd/system/multi-user.target.wants/snapd.autoimport.service → /lib/systemd/system/snapd.autoimport.service.\n",
      "Created symlink /etc/systemd/system/multi-user.target.wants/snapd.core-fixup.service → /lib/systemd/system/snapd.core-fixup.service.\n",
      "Created symlink /etc/systemd/system/multi-user.target.wants/snapd.recovery-chooser-trigger.service → /lib/systemd/system/snapd.recovery-chooser-trigger.service.\n",
      "Created symlink /etc/systemd/system/multi-user.target.wants/snapd.seeded.service → /lib/systemd/system/snapd.seeded.service.\n",
      "Created symlink /etc/systemd/system/cloud-final.service.wants/snapd.seeded.service → /lib/systemd/system/snapd.seeded.service.\n",
      "Unit /lib/systemd/system/snapd.seeded.service is added as a dependency to a non-existent unit cloud-final.service.\n",
      "Created symlink /etc/systemd/system/multi-user.target.wants/snapd.service → /lib/systemd/system/snapd.service.\n",
      "Created symlink /etc/systemd/system/timers.target.wants/snapd.snap-repair.timer → /lib/systemd/system/snapd.snap-repair.timer.\n",
      "Created symlink /etc/systemd/system/sockets.target.wants/snapd.socket → /lib/systemd/system/snapd.socket.\n",
      "Created symlink /etc/systemd/system/final.target.wants/snapd.system-shutdown.service → /lib/systemd/system/snapd.system-shutdown.service.\n",
      "Selecting previously unselected package chromium-browser.\n",
      "(Reading database ... 124067 files and directories currently installed.)\n",
      "Preparing to unpack .../chromium-browser_1%3a85.0.4183.83-0ubuntu2.22.04.1_amd64.deb ...\n",
      "=> Installing the chromium snap\n",
      "==> Checking connectivity with the snap store\n",
      "===> System doesn't have a working snapd, skipping\n",
      "Unpacking chromium-browser (1:85.0.4183.83-0ubuntu2.22.04.1) ...\n",
      "Selecting previously unselected package chromium-chromedriver.\n",
      "Preparing to unpack .../chromium-chromedriver_1%3a85.0.4183.83-0ubuntu2.22.04.1_amd64.deb ...\n",
      "Unpacking chromium-chromedriver (1:85.0.4183.83-0ubuntu2.22.04.1) ...\n",
      "Selecting previously unselected package systemd-hwe-hwdb.\n",
      "Preparing to unpack .../systemd-hwe-hwdb_249.11.5_all.deb ...\n",
      "Unpacking systemd-hwe-hwdb (249.11.5) ...\n",
      "Setting up systemd-hwe-hwdb (249.11.5) ...\n",
      "Setting up chromium-browser (1:85.0.4183.83-0ubuntu2.22.04.1) ...\n",
      "update-alternatives: using /usr/bin/chromium-browser to provide /usr/bin/x-www-browser (x-www-browser) in auto mode\n",
      "update-alternatives: using /usr/bin/chromium-browser to provide /usr/bin/gnome-www-browser (gnome-www-browser) in auto mode\n",
      "Setting up chromium-chromedriver (1:85.0.4183.83-0ubuntu2.22.04.1) ...\n",
      "Processing triggers for udev (249.11-0ubuntu3.12) ...\n",
      "Processing triggers for hicolor-icon-theme (0.17-2) ...\n",
      "Processing triggers for libc-bin (2.35-0ubuntu3.4) ...\n",
      "/sbin/ldconfig.real: /usr/local/lib/libtbbmalloc_proxy.so.2 is not a symbolic link\n",
      "\n",
      "/sbin/ldconfig.real: /usr/local/lib/libhwloc.so.15 is not a symbolic link\n",
      "\n",
      "/sbin/ldconfig.real: /usr/local/lib/libtcm.so.1 is not a symbolic link\n",
      "\n",
      "/sbin/ldconfig.real: /usr/local/lib/libtbbbind.so.3 is not a symbolic link\n",
      "\n",
      "/sbin/ldconfig.real: /usr/local/lib/libumf.so.0 is not a symbolic link\n",
      "\n",
      "/sbin/ldconfig.real: /usr/local/lib/libtbb.so.12 is not a symbolic link\n",
      "\n",
      "/sbin/ldconfig.real: /usr/local/lib/libur_loader.so.0 is not a symbolic link\n",
      "\n",
      "/sbin/ldconfig.real: /usr/local/lib/libur_adapter_level_zero.so.0 is not a symbolic link\n",
      "\n",
      "/sbin/ldconfig.real: /usr/local/lib/libtbbbind_2_0.so.3 is not a symbolic link\n",
      "\n",
      "/sbin/ldconfig.real: /usr/local/lib/libtbbbind_2_5.so.3 is not a symbolic link\n",
      "\n",
      "/sbin/ldconfig.real: /usr/local/lib/libur_adapter_opencl.so.0 is not a symbolic link\n",
      "\n",
      "/sbin/ldconfig.real: /usr/local/lib/libtbbmalloc.so.2 is not a symbolic link\n",
      "\n",
      "/sbin/ldconfig.real: /usr/local/lib/libtcm_debug.so.1 is not a symbolic link\n",
      "\n",
      "Processing triggers for man-db (2.10.2-1) ...\n",
      "Processing triggers for dbus (1.12.20-2ubuntu4.1) ...\n"
     ]
    }
   ],
   "source": [
    "!pip install selenium\n",
    "!pip install webdriver-manager\n",
    "!apt-get update\n",
    "!apt install chromium-chromedriver"
   ]
  },
  {
   "cell_type": "code",
   "execution_count": null,
   "metadata": {
    "colab": {
     "base_uri": "https://localhost:8080/",
     "height": 755
    },
    "id": "67BPLGGkZ1X3",
    "outputId": "3a5cdbcf-579b-4cf9-8dd3-412ff005b50a"
   },
   "outputs": [],
   "source": [
    "from selenium import webdriver\n",
    "from selenium.webdriver.common.by import By\n",
    "from selenium.webdriver.support.ui import WebDriverWait\n",
    "from selenium.webdriver.support import expected_conditions as EC\n",
    "from time import sleep\n",
    "from webdriver_manager.chrome import ChromeDriverManager\n",
    "from selenium.webdriver.chrome.options import Options\n",
    "\n",
    "# Set Chrome options to specify the binary location\n",
    "chrome_options = Options()\n",
    "chrome_options.add_argument('--headless')  # Run Chrome in headless mode\n",
    "chrome_options.add_argument('--no-sandbox')\n",
    "chrome_options.add_argument('--disable-dev-shm-usage')\n",
    "chrome_options.binary_location = '/usr/bin/chromium-browser' # Path to Chrome binary in Colab\n",
    "\n",
    "# Initialize the browser driver using webdriver-manager\n",
    "# to automatically manage ChromeDriver\n",
    "driver = webdriver.Chrome(service=webdriver.chrome.service.Service(ChromeDriverManager().install()), options=chrome_options)\n",
    "\n",
    "# Rest of the code remains the same...\n",
    "\n",
    "# Wait for QR code to scan\n",
    "print(\"Scan the QR code using WhatsApp on your phone.\")\n",
    "WebDriverWait(driver, 120).until(\n",
    "    EC.presence_of_element_located((By.CSS_SELECTOR, \"div[data-testid='conversation-panel']\"))\n",
    ")\n",
    "print(\"Logged in successfully!\")\n",
    "\n",
    "def listen_and_respond():\n",
    "    while True:\n",
    "        try:\n",
    "            # Check for unread messages\n",
    "            unread_chats = driver.find_elements(By.CSS_SELECTOR, \"span[aria-label='unread messages']\")\n",
    "            for chat in unread_chats:\n",
    "                chat.click()\n",
    "                sleep(2)\n",
    "\n",
    "                # Get the last message in the chat\n",
    "                messages = driver.find_elements(By.CSS_SELECTOR, \"span.selectable-text\")\n",
    "                if messages:\n",
    "                    last_message = messages[-1].text\n",
    "                    print(f\"Received: {last_message}\")\n",
    "\n",
    "                    # Respond to specific commands\n",
    "                    if last_message.lower() == \"!ping\":\n",
    "                        send_message(\"pong\")\n",
    "                    elif last_message.startswith(\"!echo \"):\n",
    "                        reply_text = last_message[6:]\n",
    "                        send_message(reply_text)\n",
    "                    elif last_message.lower() == \"!mediainfo\":\n",
    "                        send_message(\"Media handling not implemented in this Python example.\")\n",
    "        except Exception as e:\n",
    "            print(f\"Error: {e}\")\n",
    "        sleep(5)  # Poll every 5 seconds\n",
    "\n",
    "def send_message(text):\n",
    "    # Locate message box and send button\n",
    "    message_box = WebDriverWait(driver, 20).until(\n",
    "        EC.presence_of_element_located((By.CSS_SELECTOR, \"div[contenteditable='true']\"))\n",
    "    )\n",
    "    message_box.send_keys(text)\n",
    "    send_button = driver.find_element(By.CSS_SELECTOR, \"button[data-testid='send']\")\n",
    "    send_button.click()\n",
    "    print(f\"Sent: {text}\")\n",
    "\n",
    "# Start listening for commands\n",
    "listen_and_respond()\n"
   ]
  }
 ],
 "metadata": {
  "colab": {
   "provenance": []
  },
  "kernelspec": {
   "display_name": "chatbot_env",
   "language": "python",
   "name": "python3"
  },
  "language_info": {
   "codemirror_mode": {
    "name": "ipython",
    "version": 3
   },
   "file_extension": ".py",
   "mimetype": "text/x-python",
   "name": "python",
   "nbconvert_exporter": "python",
   "pygments_lexer": "ipython3",
   "version": "3.12.7"
  }
 },
 "nbformat": 4,
 "nbformat_minor": 0
}
